{
 "cells": [
  {
   "cell_type": "code",
   "execution_count": 8,
   "metadata": {
    "collapsed": true
   },
   "outputs": [],
   "source": [
    "import overpass, osmapi, time"
   ]
  },
  {
   "cell_type": "code",
   "execution_count": 9,
   "metadata": {
    "collapsed": false
   },
   "outputs": [],
   "source": [
    "# open condos file\n",
    "f = open(\"condos.csv\",\"r\").readlines()\n",
    "\n",
    "# start not found condo file\n",
    "j = open(\"condos-left.csv\",\"w\")\n",
    "\n",
    "# set username\n",
    "username = 'schleuss'\n",
    "\n",
    "# crack open APIs\n",
    "api = overpass.API()\n",
    "api2 = osmapi.OsmApi(passwordfile = \"/Users/jschleuss/Documents/osm.password\")"
   ]
  },
  {
   "cell_type": "code",
   "execution_count": 44,
   "metadata": {
    "collapsed": true
   },
   "outputs": [],
   "source": [
    "# find id by ain\n",
    "def findBuildings(ain):\n",
    "    ain = ain.replace('\\n','')\n",
    "    print 'way[\"lacounty:ain\"=\"'+ain+'\"]'\n",
    "    \n",
    "    # example condo parcel\n",
    "#     response = api.Get('((way[\"lacounty:ain\"=\"'+str(ain)+'\"]);(relation[\"lacounty:ain\"=\"'+str(ain)+'\"]););')\n",
    "    response = api.Get('(relation[\"lacounty:ain\"=\"7563006014\"]);')\n",
    "    \n",
    "    \n",
    "    print str(len(response['features'])) + ' total features found for AIN ' + ain\n",
    "    print response\n",
    "    "
   ]
  },
  {
   "cell_type": "code",
   "execution_count": 45,
   "metadata": {
    "collapsed": false
   },
   "outputs": [
    {
     "name": "stdout",
     "output_type": "stream",
     "text": [
      "way[\"lacounty:ain\"=\"7563006014\"]\n",
      "0 total features found for AIN 7563006014\n",
      "{\"features\": [], \"type\": \"FeatureCollection\"}\n"
     ]
    }
   ],
   "source": [
    "# testing to find buildings\n",
    "selain = f[2]\n",
    "findBuildings('7563006014')"
   ]
  },
  {
   "cell_type": "code",
   "execution_count": 16,
   "metadata": {
    "collapsed": false
   },
   "outputs": [],
   "source": [
    "def updateBuildings(ain):\n",
    "\n",
    "    # WILL NEED TO LOOP THROUGH POSSIBLE MULTIPLE BUILDINGS\n",
    "    ain = ain.replace('\\n','')\n",
    "    \n",
    "    # get features\n",
    "    response = api.Get('(way[\"lacounty:ain\"=\"'+str(ain)+'\"];relation[\"lacounty:ain\"=\"'+str(ain)+'\"];)')\n",
    "\n",
    "    # open a changeset\n",
    "    api2.ChangesetCreate({u\"comment\": u\"Removing building:units from condo and adding apartments type\", u'source':'L.A. County Assessor', u'created_by':username})    \n",
    "    \n",
    "    # loop through all features\n",
    "    for feature in response['features']:\n",
    "        objid = feature['id']\n",
    "        obj = api2.WayGet(objid) # get object\n",
    "\n",
    "\n",
    "        # delete unit count and change building to residential \n",
    "        if 'building:units' in obj['tag']:\n",
    "            del obj['tag']['building:units']\n",
    "            print 'updated units for ' + str(objid)\n",
    "        if obj['tag']['building'] != 'apartments':\n",
    "            obj['tag']['building'] = 'apartments'\n",
    "            print 'updated building type for ' + str(objid)\n",
    "\n",
    "        obj = api2.WayUpdate(obj) # update the object\n",
    "        \n",
    "        print \"updating \" + str(objid)\n",
    "        # wait a beat\n",
    "        time.sleep(1)\n",
    "        \n",
    "    api2.ChangesetClose()\n",
    "        \n",
    "        \n",
    "#     # alt if way gives nothing\n",
    "#     if len(response['features']) == 0:\n",
    "#         response = api.Get('way[\"lacounty:ain\"=\"'+ain+'\"]')\n",
    "#         objid = response['features'][0]['id']\n",
    "\n",
    "#     else:\n",
    "#         objid = response['features'][0]['id']\n",
    "        \n",
    "#     obj = api2.WayGet(objid) # get object\n",
    "\n",
    "#     open a changeset\n",
    "#     api2.ChangesetCreate({u\"comment\": u\"Removing building:units from condo and adding apartments type\", u'source':'L.A. County Assessor', u'created_by':username})\n",
    "    \n"
   ]
  },
  {
   "cell_type": "code",
   "execution_count": 19,
   "metadata": {
    "collapsed": false
   },
   "outputs": [
    {
     "name": "stdout",
     "output_type": "stream",
     "text": [
      "''\n",
      "updated 407337799\n",
      "updated units for 407338314\n",
      "updated building type for 407338314\n",
      "updated 407338314\n",
      "updated units for 407339429\n",
      "updated building type for 407339429\n",
      "updated 407339429\n",
      "updated units for 407339688\n",
      "updated building type for 407339688\n",
      "updated 407339688\n",
      "updated units for 407339706\n",
      "updated building type for 407339706\n",
      "updated 407339706\n",
      "updated units for 407339754\n",
      "updated building type for 407339754\n",
      "updated 407339754\n",
      "updated units for 407339928\n",
      "updated building type for 407339928\n",
      "updated 407339928\n",
      "updated units for 407339931\n",
      "updated building type for 407339931\n",
      "updated 407339931\n"
     ]
    }
   ],
   "source": [
    "# api2.ChangesetClose()\n",
    "# testing to update buildings\n",
    "updateBuildings(selain)"
   ]
  },
  {
   "cell_type": "code",
   "execution_count": null,
   "metadata": {
    "collapsed": true
   },
   "outputs": [],
   "source": []
  }
 ],
 "metadata": {
  "kernelspec": {
   "display_name": "Python 2",
   "language": "python",
   "name": "python2"
  },
  "language_info": {
   "codemirror_mode": {
    "name": "ipython",
    "version": 2
   },
   "file_extension": ".py",
   "mimetype": "text/x-python",
   "name": "python",
   "nbconvert_exporter": "python",
   "pygments_lexer": "ipython2",
   "version": "2.7.10"
  }
 },
 "nbformat": 4,
 "nbformat_minor": 0
}
