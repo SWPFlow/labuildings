{
 "cells": [
  {
   "cell_type": "code",
   "execution_count": 5,
   "metadata": {
    "collapsed": true
   },
   "outputs": [],
   "source": [
    "import overpass, osmapi"
   ]
  },
  {
   "cell_type": "code",
   "execution_count": 90,
   "metadata": {
    "collapsed": false
   },
   "outputs": [],
   "source": [
    "# open condos file\n",
    "f = open(\"condos.csv\",\"r\").readlines()\n",
    "\n",
    "# start not found condo file\n",
    "j = open(\"condos-left.csv\",\"w\")\n",
    "\n",
    "# set username\n",
    "username = 'schleuss'\n",
    "\n",
    "# crack open APIs\n",
    "api = overpass.API()\n",
    "api2 = osmapi.OsmApi(passwordfile = \"/Users/jschleuss/Documents/osm.password\")"
   ]
  },
  {
   "cell_type": "code",
   "execution_count": 97,
   "metadata": {
    "collapsed": true
   },
   "outputs": [],
   "source": [
    "# find id by ain\n",
    "def findBuildings(ain):\n",
    "    ain = ain.replace('\\n','')\n",
    "    print 'way[\"lacounty:ain\"=\"'+ain+'\"]'\n",
    "    \n",
    "    # example condo parcel\n",
    "    response = api.Get('(way[\"lacounty:ain\"=\"'+str(ain)+'\"];relation[\"lacounty:ain\"=\"'+str(ain)+'\"];)')\n",
    "    \n",
    "    print str(len(response['features'])) + ' total features found for AIN ' + ain\n",
    "    print response\n",
    "    "
   ]
  },
  {
   "cell_type": "code",
   "execution_count": 92,
   "metadata": {
    "collapsed": false
   },
   "outputs": [],
   "source": [
    "def updateBuildings(ain):\n",
    "\n",
    "    # WILL NEED TO LOOP THROUGH POSSIBLE MULTIPLE BUILDINGS\n",
    "    ain = ain.replace('\\n','')\n",
    "    response = api.Get('way[\"lacounty:ain\"=\"'+str(ain)+'\"]')\n",
    "\n",
    "    # alt if way gives nothing\n",
    "    if len(response['features']) == 0:\n",
    "        response = api.Get('way[\"lacounty:ain\"=\"'+ain+'\"]')\n",
    "        objid = response['features'][0]['id']\n",
    "\n",
    "    else:\n",
    "        objid = response['features'][0]['id']\n",
    "        \n",
    "    obj = api2.WayGet(objid) # get object\n",
    "\n",
    "    # open a changeset\n",
    "    api2.ChangesetCreate({u\"comment\": u\"Removing building:units from condo and adding apartments type\", u'source':'L.A. County Assessor', u'created_by':username})\n",
    "    \n",
    "    # delete unit count and change building to residential \n",
    "    if 'building:units' in obj['tag']:\n",
    "        del obj['tag']['building:units']\n",
    "        print 'updated units for ' + str(objid)\n",
    "    if obj['tag']['building'] != 'apartments':\n",
    "        obj['tag']['building'] = 'apartments'\n",
    "        print 'updated building type for ' + str(objid)\n",
    "        \n",
    "    obj = api2.WayUpdate(obj)"
   ]
  },
  {
   "cell_type": "code",
   "execution_count": 98,
   "metadata": {
    "collapsed": false
   },
   "outputs": [
    {
     "name": "stdout",
     "output_type": "stream",
     "text": [
      "way[\"lacounty:ain\"=\"7563006036\"]\n",
      "8 total features found for AIN 7563006036\n",
      "{\"features\": [{\"geometry\": {\"coordinates\": [[-118.3222191, 33.7259609], [-118.3222148, 33.7259601], [-118.3222417, 33.7258504], [-118.3224172, 33.7258797], [-118.3223894, 33.7259929], [-118.3223795, 33.7259912], [-118.3223625, 33.7260605], [-118.3223445, 33.7261269], [-118.3221854, 33.7260969], [-118.3222023, 33.7260299], [-118.3222191, 33.7259609]], \"type\": \"LineString\"}, \"id\": 407337799, \"properties\": {\"building\": \"apartments\", \"ele\": \"121.2\", \"height\": \"5.2\", \"lacounty:ain\": \"7563006036\", \"lacounty:bld_id\": \"463670722850\", \"start_date\": \"1984\"}, \"type\": \"Feature\"}, {\"geometry\": {\"coordinates\": [[-118.3221726, 33.7255784], [-118.3223519, 33.7255673], [-118.3223543, 33.7255947], [-118.322527, 33.725584], [-118.3225245, 33.7255558], [-118.3227022, 33.7255448], [-118.3227178, 33.7257219], [-118.3225434, 33.7257327], [-118.322546, 33.7257616], [-118.3223645, 33.7257728], [-118.322362, 33.7257443], [-118.3221882, 33.7257553], [-118.3221726, 33.7255784]], \"type\": \"LineString\"}, \"id\": 407338314, \"properties\": {\"building\": \"house\", \"building:units\": \"1\", \"ele\": \"123.1\", \"height\": \"9.7\", \"lacounty:ain\": \"7563006036\", \"lacounty:bld_id\": \"463616722707\", \"start_date\": \"1984\"}, \"type\": \"Feature\"}, {\"geometry\": {\"coordinates\": [[-118.3228845, 33.7263215], [-118.3226849, 33.7262643], [-118.3227801, 33.7260326], [-118.3229797, 33.7260898], [-118.3228845, 33.7263215]], \"type\": \"LineString\"}, \"id\": 407339429, \"properties\": {\"building\": \"house\", \"building:units\": \"1\", \"ele\": \"125.2\", \"height\": \"7.9\", \"lacounty:ain\": \"7563006036\", \"lacounty:bld_id\": \"463508722914\", \"start_date\": \"1984\"}, \"type\": \"Feature\"}, {\"geometry\": {\"coordinates\": [[-118.3215997, 33.7257015], [-118.32152, 33.7258781], [-118.3214563, 33.7258581], [-118.3214323, 33.7259113], [-118.3213015, 33.7258701], [-118.3214052, 33.7256402], [-118.3215997, 33.7257015]], \"type\": \"LineString\"}, \"id\": 407339688, \"properties\": {\"building\": \"house\", \"building:units\": \"1\", \"ele\": \"121.8\", \"height\": \"4.9\", \"lacounty:ain\": \"7563006036\", \"lacounty:bld_id\": \"463919722744\", \"start_date\": \"1984\"}, \"type\": \"Feature\"}, {\"geometry\": {\"coordinates\": [[-118.3217136, 33.7259668], [-118.3217285, 33.7259113], [-118.3216636, 33.7258992], [-118.3217122, 33.7257179], [-118.3219181, 33.7257564], [-118.3218552, 33.7259933], [-118.3217136, 33.7259668]], \"type\": \"LineString\"}, \"id\": 407339706, \"properties\": {\"building\": \"house\", \"building:units\": \"1\", \"ele\": \"123.0\", \"height\": \"5.2\", \"lacounty:ain\": \"7563006036\", \"lacounty:bld_id\": \"463818722783\", \"start_date\": \"1984\"}, \"type\": \"Feature\"}, {\"geometry\": {\"coordinates\": [[-118.3228345, 33.7255614], [-118.3230009, 33.7256114], [-118.3229903, 33.725636], [-118.323158, 33.7256864], [-118.3230855, 33.7258547], [-118.3229137, 33.7258031], [-118.3229254, 33.7257758], [-118.3227632, 33.7257271], [-118.3228345, 33.7255614]], \"type\": \"LineString\"}, \"id\": 407339754, \"properties\": {\"building\": \"house\", \"building:units\": \"1\", \"ele\": \"122.0\", \"height\": \"9.2\", \"lacounty:ain\": \"7563006036\", \"lacounty:bld_id\": \"463460722712\", \"start_date\": \"1984\"}, \"type\": \"Feature\"}, {\"geometry\": {\"coordinates\": [[-118.3224648, 33.7260416], [-118.3224614, 33.7260407], [-118.32249, 33.7259295], [-118.3226636, 33.7259606], [-118.3226349, 33.7260723], [-118.3226266, 33.7260708], [-118.3225895, 33.7262071], [-118.3224289, 33.7261772], [-118.3224471, 33.7261105], [-118.3224648, 33.7260416]], \"type\": \"LineString\"}, \"id\": 407339928, \"properties\": {\"building\": \"house\", \"building:units\": \"1\", \"ele\": \"120.6\", \"height\": \"4.6\", \"lacounty:ain\": \"7563006036\", \"lacounty:bld_id\": \"463596722881\", \"start_date\": \"1984\"}, \"type\": \"Feature\"}, {\"geometry\": {\"coordinates\": [[-118.3219706, 33.7259037], [-118.3219625, 33.7259022], [-118.3219929, 33.7257891], [-118.3221677, 33.7258219], [-118.3221373, 33.7259349], [-118.3221297, 33.7259335], [-118.3220936, 33.7260676], [-118.3219344, 33.7260398], [-118.3219518, 33.7259735], [-118.3219706, 33.7259037]], \"type\": \"LineString\"}, \"id\": 407339931, \"properties\": {\"building\": \"house\", \"building:units\": \"1\", \"ele\": \"121.2\", \"height\": \"5.3\", \"lacounty:ain\": \"7563006036\", \"lacounty:bld_id\": \"463746722828\", \"start_date\": \"1984\"}, \"type\": \"Feature\"}], \"type\": \"FeatureCollection\"}\n"
     ]
    }
   ],
   "source": [
    "# testing to find buildings\n",
    "selain = f[2]\n",
    "findBuildings(selain)"
   ]
  },
  {
   "cell_type": "code",
   "execution_count": null,
   "metadata": {
    "collapsed": true
   },
   "outputs": [],
   "source": [
    "# testing to update buildings\n",
    "updateBuildings(selain)"
   ]
  }
 ],
 "metadata": {
  "kernelspec": {
   "display_name": "Python 2",
   "language": "python",
   "name": "python2"
  },
  "language_info": {
   "codemirror_mode": {
    "name": "ipython",
    "version": 2
   },
   "file_extension": ".py",
   "mimetype": "text/x-python",
   "name": "python",
   "nbconvert_exporter": "python",
   "pygments_lexer": "ipython2",
   "version": "2.7.10"
  }
 },
 "nbformat": 4,
 "nbformat_minor": 0
}
